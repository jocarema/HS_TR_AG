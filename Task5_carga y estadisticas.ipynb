{
 "cells": [
  {
   "cell_type": "markdown",
   "metadata": {},
   "source": [
    "# Download and Printing the corpus "
   ]
  },
  {
   "cell_type": "markdown",
   "metadata": {},
   "source": [
    "## File format\n",
    "\n",
    "The data have been encoded with the same format, independently of the task and language. Such format consists of a tab-separated file with one line per tweet containing the following fields:\n",
    "\n",
    "* a numeric ID that uniquely identifies the tweet within the dataset (id column)\n",
    "* the text of the tweet (text column)\n",
    "* a binary value {1|0} indicating if hate speech is occurring against one of the given targets, women or immigrants (HS column)\n",
    "* if HS occurs (i.e. the value for the feature at point 2 is 1), a binary value indicating if the target is a generic group of people (0) or a specific individual (1) (TR column)\n",
    "* if HS occurs (i.e. the value for the feature at point 2 is 1), a binary value indicating if the tweeter is aggressive (1) or not (0) (AG column)\n"
   ]
  },
  {
   "cell_type": "code",
   "execution_count": 4,
   "metadata": {},
   "outputs": [
    {
     "name": "stdout",
     "output_type": "stream",
     "text": [
      "['id', 'text', 'HS', 'TR', 'AG']\n",
      "        id                                               text  HS  TR  AG\n",
      "433  24914  Mucho rollito con lo de #JuanaRivasSomosTodas ...   1   0   1\n",
      "434  24922  NO+INMIGRACIÓN NO+INVASIÓN NO MÁS INMIGRANTES,...   1   0   1\n",
      "435  24932  #AlCongresoPorLosJubilados carrio no sirve lo ...   1   1   1\n",
      "436  24945  Te habrán dicho que los #inmigrantes traen #pa...   0   0   0\n",
      "437  24947  ⚡DESTACAMOS | Buenas noticias, el alcalde de F...   0   0   0\n",
      "438  24970  señor @JorgeSharp #alcadedevalparaiso tiene cl...   0   0   0\n",
      "439  24980  #OJO Detienen a 95 #indocumentados en desierto...   0   0   0\n",
      "440  24990  #LoMásLeído | El Gobierno refuerza con 323 pla...   0   0   0\n",
      "441  24992  Nao: el robot que enseña Alemán a los niños re...   0   0   0\n",
      "442  24996  @miriaan_ac @Linaveso_2105 @HumildesSquad_ CÁL...   1   1   1\n",
      "        id                                               text  HS\n",
      "0    20012  #Noticiasdelalinea: Detienen en Guatapanal mot...   0\n",
      "1    20020  Todos: -#NoTodosLosHombres -PPK, presidente de...   0\n",
      "2    20021  El juez cita a declarar a la menor que denunci...   0\n",
      "3    20022  VAMOOOO LA PUTA MADRE SE LO MERECÍA TANTO ESFU...   0\n",
      "4    20036  Es un gran regalo???? Y una polla un regalo, a...   0\n",
      "5    20048  #esdemexicanos que te digan güero aunque seas ...   0\n",
      "6    20050  Immigration ? Invasion ? Entrada masiva de INM...   0\n",
      "7    20074  @agaxiolag cállate puta! Aprende a hablar y bl...   1\n",
      "8    20078  @elchiringuitotv @As_TomasRoncero #Chiringuito...   0\n",
      "9    20080  La moronegrada está hundiendo el país a base d...   1\n",
      "10   20107  JODER ME CAGO EN LA PUTA QUE ROBO RAOUL SE LO ...   0\n",
      "11   20110  #Repost @analorenasm with get_repost ・・・ 🌊💃🏽 b...   0\n",
      "12   20122  Mirna, para algunas feministas celebrarle un v...   0\n",
      "13   20128  Llamar “mala puta” a una mujer es denominado “...   0\n",
      "14   20151  @Elaguijon_ Hoy toda esta escoria está callada...   0\n",
      "15   20191  ICE le da gran prioridad a la lucha contra la ...   0\n",
      "16   20195  Hablemos de la paliza al turista americano por...   1\n",
      "17   20200  Llegarán en masa a Cartagena. De nosotros y nu...   1\n",
      "18   20206  No son subsaharianos, son Negros. Que yo sepa,...   1\n",
      "19   20230  Joder Nagore cállate de una puta vez pesada de...   0\n",
      "20   20247  Msdossary CAMPEÓN del Mundo de FIFA 2018. Stef...   0\n",
      "21   20248  ¿Qué actor pudo ser un gran #Aquaman güero en ...   0\n",
      "22   20266  @drawman675 @Otrafachamas1 @ForretsGump Tu no ...   0\n",
      "23   20284  Retweeted La Silla Rota (@lasillarota):  \"Aten...   0\n",
      "24   20290  Campo de Refugiados en ESPAÑA 🇪🇸 Q gobierno te...   1\n",
      "25   20291  Juez reafirma orden a Trump de reactivar el pr...   0\n",
      "26   20293  ALLANARON la oficina de Thomas (ex de EBY) en ...   0\n",
      "27   20301  #AñoNuevoEnCombate zorra callateeedd 😡😡😡😡😡👿👿👿👿...   1\n",
      "28   20306  El güero de fiesta jajaja el problema no fue a...   0\n",
      "29   20327  Las #niñas #niños y #adolescentes pueden ser #...   0\n",
      "..     ...                                                ...  ..\n",
      "413  24662  Puta madre que paliza les metieron a los Klive...   0\n",
      "414  24680  Yo si fuese @pablocasado_ incluiría en mi prog...   1\n",
      "415  24698  Ha estado super ajustado, qué puta rabia. Mire...   0\n",
      "416  24703  Mi amor, ¿crees en el amor a primera vista? - ...   1\n",
      "417  24726  #Daraa Uno no sabe con certeza, si el pensamie...   0\n",
      "418  24742  @UnaFernandezMas si, a ver para cuando #TodasP...   0\n",
      "419  24750  Dustin Hoffman se enfrenta a nuevas acusacione...   0\n",
      "420  24783  Y nunca, jamás, salieron a provocar destrozos ...   0\n",
      "421  24796       #PartyChilensisFtAñoNuevo cállate perra qlia   1\n",
      "422  24799  .@PNUD #ODS16: para lograr los ODS son necesar...   0\n",
      "423  24811  Hay 50.000 subsaharianos agolpados en el norte...   0\n",
      "424  24813  La inmigracion de personas de cultura similar ...   1\n",
      "425  24831  El acoso cibernético y la violación a la intim...   0\n",
      "426  24832  El personaje de Corbin es sencillamente enseña...   0\n",
      "427  24843  Verga que culero, van 3 muertes de personajes ...   0\n",
      "428  24844  #CortesTaxistasEsVerano Todo mi apoyo a los ta...   0\n",
      "429  24849  @SheForStyles Callate ya pedazo de rata q esa ...   0\n",
      "430  24860  #españaesuna #stopUE #stopOTAN #stopLGTB #stop...   1\n",
      "431  24875  Otra puta injusticia.... Raoul grande Te merec...   0\n",
      "432  24876  Yang merecia el segundo puesto, q puta verguen...   0\n",
      "433  24914  Mucho rollito con lo de #JuanaRivasSomosTodas ...   1\n",
      "434  24922  NO+INMIGRACIÓN NO+INVASIÓN NO MÁS INMIGRANTES,...   1\n",
      "435  24932  #AlCongresoPorLosJubilados carrio no sirve lo ...   1\n",
      "436  24945  Te habrán dicho que los #inmigrantes traen #pa...   0\n",
      "437  24947  ⚡DESTACAMOS | Buenas noticias, el alcalde de F...   0\n",
      "438  24970  señor @JorgeSharp #alcadedevalparaiso tiene cl...   0\n",
      "439  24980  #OJO Detienen a 95 #indocumentados en desierto...   0\n",
      "440  24990  #LoMásLeído | El Gobierno refuerza con 323 pla...   0\n",
      "441  24992  Nao: el robot que enseña Alemán a los niños re...   0\n",
      "442  24996  @miriaan_ac @Linaveso_2105 @HumildesSquad_ CÁL...   1\n",
      "\n",
      "[443 rows x 3 columns]\n",
      "        id                                               text  HS  TR  AG\n",
      "7    20074  @agaxiolag cállate puta! Aprende a hablar y bl...   1   1   1\n",
      "9    20080  La moronegrada está hundiendo el país a base d...   1   0   1\n",
      "16   20195  Hablemos de la paliza al turista americano por...   1   0   1\n",
      "17   20200  Llegarán en masa a Cartagena. De nosotros y nu...   1   0   1\n",
      "18   20206  No son subsaharianos, son Negros. Que yo sepa,...   1   0   0\n",
      "24   20290  Campo de Refugiados en ESPAÑA 🇪🇸 Q gobierno te...   1   0   1\n",
      "27   20301  #AñoNuevoEnCombate zorra callateeedd 😡😡😡😡😡👿👿👿👿...   1   1   1\n",
      "30   20335  l #InformateEnHolaChile LOS RESEPONSABLES DEL ...   1   0   0\n",
      "31   20342  Cuantos operarios hacen falta para limpiar una...   1   0   0\n",
      "32   20345  #españaesuna #stopUE #stopLGTB Los inmigrantes...   1   0   0\n",
      "39   20428  ¿En que se parecen las mujeres y las polillas?...   1   0   0\n",
      "44   20471  5 moros comprando reguladores de bombonas de b...   1   0   1\n",
      "49   20545  #EsMuyDeProVida rezar frente al congreso. No n...   1   0   1\n",
      "51   20607  Pues francamente sería raro.  Como veros a vos...   1   0   1\n",
      "52   20616  @LVidegaray #Urgente parar inmigracion legal o...   1   0   1\n",
      "53   20622  A mí querido Ex, ese que me puso el cuerno y e...   1   1   1\n",
      "54   20630  #politivida Si no te gusta, puedes cambiarlo. ...   1   0   0\n",
      "55   20639  #Catalunya #Canarias no queremos indocumentado...   1   0   1\n",
      "58   20672  Que Sudaca! Caparrós con lo que dijo de @cuerv...   1   1   1\n",
      "63   20701  #elcascabel06a oye, pavo agredido en Barcino p...   1   0   1\n",
      "65   20718  @BamAlondra ya cállate perra loca, no son los ...   1   1   1\n",
      "66   20727  ¡Eh! ¡Subsaharianos violentos! ¡Hablad de eso!...   1   0   1\n",
      "68   20740  #EXCLUSIVA:  Pablo Casado propone colgar jamon...   1   0   1\n",
      "70   20761  #Pendejos  Don't call me gringo You fuckin bea...   1   0   1\n",
      "73   20776  Miles d españoles licenciados q se han ido, o ...   1   0   1\n",
      "77   20808  @suso_linares @Mishaki @Visentico @MrDonZea @e...   1   0   0\n",
      "82   20892  #AcogidaDigna En los países con los que compar...   1   0   1\n",
      "84   20963  #RacismoEs  que los tres García anduvieran det...   1   0   0\n",
      "86   20980  Esto debió hacerlo hace años en todo el territ...   1   0   1\n",
      "87   20983  Eliminar el cáncer del top manta subsahariano ...   1   0   1\n",
      "..     ...                                                ...  ..  ..  ..\n",
      "339  23840  Ya callate con tu puta aguila color azul pinch...   1   1   1\n",
      "342  23888  El biribiri de las estupidas adolescentes mani...   1   0   1\n",
      "345  23913        #parejainfelizSDP lq mujer es lesbiana puta   1   0   1\n",
      "347  23923  esas jotillas ridículas de biografías pedorras...   1   0   1\n",
      "353  24045  📣🗡️#Barcelona, ciudad de #okupas, inmigrantes ...   1   0   1\n",
      "359  24091  Acostumbremonos a esto, será muy normal, aunqu...   1   0   1\n",
      "364  24136  https://t.co/Wnap07YAFR Un programa de \"acogid...   1   0   1\n",
      "367  24167  ¿Por que las mujeres se casan de blanco? Para ...   1   0   0\n",
      "368  24168  Haber de la güera de rancho no me sorprende su...   1   1   1\n",
      "369  24175  #impromilf    Yaz! cultura árabe = cultura mac...   1   0   0\n",
      "376  24264  Sarna con gusto...  #Inmigración es GASTO #Inm...   1   0   1\n",
      "377  24269  El agressor de una mujer de 25 ha sido detenid...   1   1   0\n",
      "379  24278           #HoyLeDoyUnfollow a los Nazis Sudacas!!!   1   1   1\n",
      "380  24303  #Bienvenidos13 panel proges,hipocritas, contra...   1   0   1\n",
      "387  24349  @INM @tatclouthier #TODOCOYOCAN @amandititita ...   1   0   0\n",
      "391  24424  #SabiasQue el cerebro de la mujer esta conecta...   1   0   0\n",
      "396  24482  Y pase lo que pase no votéis a una mujer, que ...   1   0   0\n",
      "397  24487  Soy moreno, siempre que me subo al coche lo pr...   1   0   1\n",
      "401  24508  El nefasto ministro de ⁦@interiorgob⁩ Marlaska...   1   0   1\n",
      "402  24525  ¿Qué hacen tantos subsaharianos de pie en la P...   1   0   0\n",
      "411  24636  Mientras el común de los mortales padecemos un...   1   0   0\n",
      "414  24680  Yo si fuese @pablocasado_ incluiría en mi prog...   1   0   0\n",
      "416  24703  Mi amor, ¿crees en el amor a primera vista? - ...   1   0   0\n",
      "421  24796       #PartyChilensisFtAñoNuevo cállate perra qlia   1   1   1\n",
      "424  24813  La inmigracion de personas de cultura similar ...   1   0   0\n",
      "430  24860  #españaesuna #stopUE #stopOTAN #stopLGTB #stop...   1   0   0\n",
      "433  24914  Mucho rollito con lo de #JuanaRivasSomosTodas ...   1   0   1\n",
      "434  24922  NO+INMIGRACIÓN NO+INVASIÓN NO MÁS INMIGRANTES,...   1   0   1\n",
      "435  24932  #AlCongresoPorLosJubilados carrio no sirve lo ...   1   1   1\n",
      "442  24996  @miriaan_ac @Linaveso_2105 @HumildesSquad_ CÁL...   1   1   1\n",
      "\n",
      "[140 rows x 5 columns]\n"
     ]
    }
   ],
   "source": [
    "import pandas as pd\n",
    "import numpy as np\n",
    "\n",
    "corpus = pd.read_csv('Corpus/public_development_esTaskA/hashaTags_train_es.txt',delimiter='\\t',encoding='utf-8')\n",
    "print(list(corpus.columns.values)) #file header\n",
    "print(corpus.tail(10)) #last N rows\n",
    "print(corpus[[corpus.columns[0],corpus.columns[1],corpus.columns[2]]]) #print the columns: id, text, HS\n",
    "print(corpus[corpus['HS'] != 0]) #printing the hates twits"
   ]
  },
  {
   "cell_type": "markdown",
   "metadata": {},
   "source": [
    "# Características del corpus"
   ]
  },
  {
   "cell_type": "markdown",
   "metadata": {},
   "source": [
    "¿Qué porcentaje del corpus es odioso?"
   ]
  },
  {
   "cell_type": "code",
   "execution_count": 5,
   "metadata": {},
   "outputs": [],
   "source": [
    "def porcentaje_odioso():\n",
    "    hate=corpus[corpus['HS'] != 0]\n",
    "    print(len(hate), len(corpus))\n",
    "    return corpus['HS'].mean()*100"
   ]
  },
  {
   "cell_type": "code",
   "execution_count": 6,
   "metadata": {},
   "outputs": [
    {
     "name": "stdout",
     "output_type": "stream",
     "text": [
      "140 443\n"
     ]
    },
    {
     "data": {
      "text/plain": [
       "31.60270880361174"
      ]
     },
     "execution_count": 6,
     "metadata": {},
     "output_type": "execute_result"
    }
   ],
   "source": [
    "porcentaje_odioso()"
   ]
  },
  {
   "cell_type": "markdown",
   "metadata": {},
   "source": [
    "¿Qué porcentaje del corpus es para individuos?"
   ]
  },
  {
   "cell_type": "code",
   "execution_count": 7,
   "metadata": {},
   "outputs": [],
   "source": [
    "def porcentaje_individuo():\n",
    "    individual=corpus[corpus['TR'] != 0]\n",
    "    print(len(individual), len(corpus))\n",
    "    return corpus['TR'].mean()*100"
   ]
  },
  {
   "cell_type": "code",
   "execution_count": 8,
   "metadata": {},
   "outputs": [
    {
     "name": "stdout",
     "output_type": "stream",
     "text": [
      "33 443\n"
     ]
    },
    {
     "data": {
      "text/plain": [
       "7.44920993227991"
      ]
     },
     "execution_count": 8,
     "metadata": {},
     "output_type": "execute_result"
    }
   ],
   "source": [
    "porcentaje_individuo()"
   ]
  },
  {
   "cell_type": "markdown",
   "metadata": {},
   "source": [
    "¿Qué porcentaje del corpus es agresivo?"
   ]
  },
  {
   "cell_type": "code",
   "execution_count": 9,
   "metadata": {},
   "outputs": [],
   "source": [
    "def porcentaje_agresivo_total():    \n",
    "    aggressive=corpus[corpus['AG'] != 0]\n",
    "    print(len(aggressive), len(corpus))\n",
    "    return corpus['AG'].mean()*100"
   ]
  },
  {
   "cell_type": "code",
   "execution_count": 10,
   "metadata": {},
   "outputs": [
    {
     "name": "stdout",
     "output_type": "stream",
     "text": [
      "98 443\n"
     ]
    },
    {
     "data": {
      "text/plain": [
       "22.121896162528216"
      ]
     },
     "execution_count": 10,
     "metadata": {},
     "output_type": "execute_result"
    }
   ],
   "source": [
    "porcentaje_agresivo_total()"
   ]
  },
  {
   "cell_type": "markdown",
   "metadata": {},
   "source": [
    "¿Qué porcentaje del corpus que son odiosos es agresivo?"
   ]
  },
  {
   "cell_type": "code",
   "execution_count": 11,
   "metadata": {},
   "outputs": [],
   "source": [
    "def porcentaje_agresivo_hate():\n",
    "    hate=corpus[corpus['HS'] != 0]\n",
    "    aggressive=hate[hate['AG'] != 0]\n",
    "    print(len(aggressive), len(hate))\n",
    "    return hate['AG'].mean()*100"
   ]
  },
  {
   "cell_type": "code",
   "execution_count": 12,
   "metadata": {},
   "outputs": [
    {
     "name": "stdout",
     "output_type": "stream",
     "text": [
      "98 140\n"
     ]
    },
    {
     "data": {
      "text/plain": [
       "70.0"
      ]
     },
     "execution_count": 12,
     "metadata": {},
     "output_type": "execute_result"
    }
   ],
   "source": [
    "porcentaje_agresivo_hate()"
   ]
  },
  {
   "cell_type": "code",
   "execution_count": null,
   "metadata": {},
   "outputs": [],
   "source": []
  }
 ],
 "metadata": {
  "kernelspec": {
   "display_name": "Python 3",
   "language": "python",
   "name": "python3"
  },
  "language_info": {
   "codemirror_mode": {
    "name": "ipython",
    "version": 3
   },
   "file_extension": ".py",
   "mimetype": "text/x-python",
   "name": "python",
   "nbconvert_exporter": "python",
   "pygments_lexer": "ipython3",
   "version": "3.6.5"
  }
 },
 "nbformat": 4,
 "nbformat_minor": 2
}
