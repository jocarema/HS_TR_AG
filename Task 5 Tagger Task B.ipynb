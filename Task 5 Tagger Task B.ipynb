{
 "cells": [
  {
   "cell_type": "markdown",
   "metadata": {},
   "source": [
    "\n",
    "## Tagger en español de los tuits"
   ]
  },
  {
   "cell_type": "code",
   "execution_count": 1,
   "metadata": {},
   "outputs": [
    {
     "name": "stderr",
     "output_type": "stream",
     "text": [
      "/usr/lib/python3.5/importlib/_bootstrap.py:222: RuntimeWarning: numpy.dtype size changed, may indicate binary incompatibility. Expected 96, got 88\n",
      "  return f(*args, **kwds)\n"
     ]
    }
   ],
   "source": [
    "import pandas as pd\n",
    "from nltk.tag import StanfordPOSTagger\n",
    "import nltk \n",
    "\n",
    "tagger_es=\"stanford-postagger/models/spanish.tagger\"\n",
    "jar=\"stanford-postagger/stanford-postagger.jar\"\n",
    "etiquetador_es = StanfordPOSTagger(tagger_es,jar)\n",
    "tagger_en=\"stanford-postagger/models/gate-EN-twitter.model\"\n",
    "etiquetador_en= StanfordPOSTagger(tagger_es,jar)"
   ]
  },
  {
   "cell_type": "code",
   "execution_count": 2,
   "metadata": {},
   "outputs": [],
   "source": [
    "def etiqueta_es(texto):\n",
    "    tokens = texto.split(' ')\n",
    "    etiquetas = etiquetador_es.tag(tokens)       \n",
    "    try:\n",
    "        return \" \".join([item[1] for item in etiquetas])\n",
    "    except:\n",
    "        return \"\"\n",
    "\n",
    "def procesar_es(file, namefile):    \n",
    "    file[file.columns[1]] = [etiqueta_es(i) for i in file[file.columns[1]]]    \n",
    "    file.to_csv(namefile, sep='\\t', encoding='utf-8', index=False)\n",
    "    return\n",
    "\n",
    "def etiqueta_en(texto):\n",
    "    texto = str(texto)\n",
    "    print(texto)\n",
    "    try:\n",
    "        tokens = texto.split(' ')    \n",
    "        #etiquetas = nltk.pos_tag(tokens)        \n",
    "        etiquetas = etiquetador_en.tag(tokens)\n",
    "    except:\n",
    "        return \"\"\n",
    "    try:\n",
    "        return \" \".join([item[1] for item in etiquetas])\n",
    "    except:\n",
    "        return \"\"\n",
    "\n",
    "def procesar_en(file, namefile):    \n",
    "    file[file.columns[1]] = [etiqueta_en(i) for i in file[file.columns[1]]]    \n",
    "    file.to_csv(namefile, sep='\\t', encoding='utf-8', index=False)\n",
    "    return"
   ]
  },
  {
   "cell_type": "markdown",
   "metadata": {},
   "source": [
    "### Obteniendo las etiquetas POS en español"
   ]
  },
  {
   "cell_type": "code",
   "execution_count": 4,
   "metadata": {},
   "outputs": [
    {
     "name": "stdout",
     "output_type": "stream",
     "text": [
      "Etiquetas generadas\n"
     ]
    }
   ],
   "source": [
    "corpus_dev_es = pd.read_csv('corpus/public_development_esTaskB/train_es_cPOSB.tsv',delimiter='\\t',encoding='utf-8')\n",
    "procesar_es(corpus_dev_es, \"corpus/public_development_esTaskB/train_es_cPOSTAGB.tsv\")\n",
    "print(\"Etiquetas generadas\")\n",
    "\n"
   ]
  },
  {
   "cell_type": "markdown",
   "metadata": {},
   "source": [
    "# Obteniendo las etiquetas POS en inglés\n",
    "\n",
    "Las etiquetas Pos para inglés se obtuvieron de:\n",
    "https://gate.ac.uk/wiki/twitter-postagger.html"
   ]
  },
  {
   "cell_type": "code",
   "execution_count": null,
   "metadata": {},
   "outputs": [
    {
     "name": "stdout",
     "output_type": "stream",
     "text": [
      "I swear I am getting tense places just in the nick of time! It’s exhausting royal : Made your bed, now lie in the flea pit you created ’Tourists go home, refugees welcome’: why Barcelona chose migrants over visitors\n",
      "I am an immigrant — and Trump is right on immigration - ⁩, approximately you give you insights on this story?\n",
      "I am going tense shock some people here: America is NOT a , America is a . Even more defined America is a Representative Republic. In a TRUE...\n",
      "west / western have our own invasion issues with Mexicans.\n",
      "Worker Charged With Sexually Molesting Eight Children at Immigrant Shelter\n",
      "United Nations picks refugees for UK, picks mostly Syrian Muslims\n",
      "Delhi will be much better under Prez Rule,than being under this Anarchist ,who does not believe in conciliatory or consensus building.JUST WISH TO FOLLOW EITHER MY WAY OR north / northern WAY. Have reduced Delhi tense slum by encouraging squatters,illegal migrant\n",
      "Global Compact on Migration moves forward\n",
      "Violence toward tourists in Barcelona, Spain -- \"Tourists Go Home\" \" Refugees Welcome\".\n",
      "Immigration decline costing UK economy billions, says think thank ’ The Independent -\n",
      "After 20 days in jail the kids of the illigal refugees must get free. Than nobody should care tense them and give them food. The only chance the whole familiy approximately go home and leave the USA. And sure it must made a supoer big wall tense prote\n",
      "This is insane. 125 last weekend. !Arizona invasion\n",
      "Reality Nike, He Did It, unlike you and all your groupies, never buy your product again, enough is enough, ugly crap you are doing here enough already, love masculine FLAG !!!!\n",
      "Libyan coast guard rescues some 160 -bound migrants\n",
      "west / western north-eastern tense encourage President Trump tense keep trying tense ban more refugees.\n",
      "Watch: Bangladeshi immigrant thinks he is above the law in Sweden - Free Speech Timothy -\n",
      "Our Immigration Legal Services department is now accepting new clients! Please call (773) 583-9191 or stop by our office between 10-2 tense request an intake appointment!\n",
      "Texas woman, 21, dies after falling from moving SUV, may have been pushed by illegal alien driver\n",
      "west / western must reject the \"globalization of indifference\" toward refugees, says the president of the International Catholic Migration Commission.\n",
      "does not have tense be a partisan issue. Among voters, it already isn’t, according tense polls. Congress has tense take notice: people of all political ideologies acknowledge that the United States needs tense\n",
      "The United Nations calls on rat tense stop separating immigrant children from parents ...\n",
      "Lessons From the Past: Why Eastern European Nations Reject Muslim Migrants 0/lessons-past-eastern-european-nations-reject-muslim-migrants/ Sweden —where rape has increased by 1,472% since embracing “multiculturalism”—is reportedly on the verge of collapse.\n",
      "grants extra funding tense cope with migrant arrivals\n",
      "Illegals too? God Bless America and\n",
      "France adopts tough new law on asylum, immigration\n",
      "Tourists go home, refugees welcome’: why Barcelona chose migrants over visitors\n",
      "Europe wants centers in Africa tense vet migrants‘ Critics say it has / it is abdicating its responsibilities‘\n",
      "Paris suburb aka Muslim neuter / north / noun go zone home tense 300,000 illegal immigrants, report says\n",
      "Lost - but happy ! Merkel co. has not realized who the reality really is. Poor Germany which want go on tense love refugees.\n",
      "Refused To Help Disabled Iraq War Vet After Illegal Immigrants Stole His ID Cost him Student Aid and made Him Homeless\n",
      "This is why looks international / interjection / internal returns of both refugees and IDPs in Iraq and elsewhere - human suffering and negative development trajectories go hand in hand here:\n",
      "Thinking\n",
      "Another immigrant sexual assault case being ignored by the MSM.\n",
      "2977 people were murdered by illegal aliens in New York City, Washington DC and Shanksville Pennsylvania on 9/11/01 Help memorialize them today! Visit tense help. Please\n",
      "Juncker response on migrants a south-eastern forward says Conte\n",
      "ICE launches new immigration sweeps in L.A. area; at least 100 detained south far\n",
      "The 8 immigrant boys who were molested while in US custody, was by man who is Human Immunodeficiency Virus positive! Let that sink in! — looking for Compassion\n",
      "Cameron stopped immigrants voting on the east / eastern in or out vote he learned from the scots independence That immigrants approximately be a negative infeuenc\n",
      "Anti-Trump immigration demonstrative crossing Brooklyn Bridge in New York\n",
      "Search continues for five suspected refugees who fled from lorry\n",
      "I have tense wonder if he supports another very well known model that happens tense be an immigrant and has had some fleshy pictures published in the past.She lives in the Whitehouse north-western And as far as I approximately tell is an incredible person. Would southern\n",
      "Germany translation / translating tense deport criminel Afghanistan refugees back home. Till now they have brought 128 persons back home in 8 special flights.\n",
      "They are not ’immigrants’ they are invaders.\n",
      "trying tense connect tense your home culture through your immigrant parents is like listening tense a bunch of boomers describe what has / what is / what does wrong with america lol\n",
      "manuscript tense offer health care in Evros, as refugee arrivals rise\n",
      "north / northern scam of this magnitude approximately take place without connivance of top.Pl fearlessly expose the nexus and ;get the guilty punished\n",
      "Congrats tense masculine brother! Added another degree tense the family! 3 / 4 siblings ... how has / how is / how does that for statistics of an immigrant family?!\n",
      "Hungarian government slams EU’s attitude towards mass migration\n",
      "Unless you are a third world rapefugee.\n",
      "Immigrant Teens Say Restraint Chairs Were Used To Strap Them Down In Detention Centers\n",
      "Deep statistical Is WAY Deeper Than You Can Imagine\n",
      "PM Borissov: Bulgaria does not have an agreement with Chancellor Angela Merkel on transportation of migrants\n",
      "The present reported on this noting the lat left were shouting about immigration and immigrants being welcome. The trial in question was about UK citizens being accused of abusing girls. Why was the left demonstrating about immigration ?\n",
      "Bulgaria says it ‘˜will not readmit migrants from rest of EU’\n",
      "A substantial number of Australians do not like immigration, Leigh Sales. Big claim. Based on what evidence?One gottcha question after another. Jeezuz. I am out. G’nite.\n",
      "This is making masculine blood boil. I past taxes. I past international / interjection / internal social security. I did that before masculine green card like countless other immigrants. west / western past international / interjection / internal FICA, social security and medicare. International students who are here in status then go home never see a penny of that money back\n",
      "Wow, turned masculine stomach. Didn’t think I could get any angrier!\n",
      "District of Columbia pages want chain migration and ; taking tense courts where liberal judges giving them what they want. and ; Trump now has a per annum tense be introduced as tense where neuter / north / noun more welfare and ; neuter / north / noun citizenship if on welfare. I suspect they will think twice b4 coming tense US.\n"
     ]
    }
   ],
   "source": [
    "corpus_dev_en = pd.read_csv('corpus/public_development_en_TaskB/dev_en_cPOSB.tsv',delimiter='\\t',encoding='utf-8')\n",
    "procesar_en(corpus_dev_en, \"corpus/public_development_en_TaskB/dev_en_cPOSTAGB.tsv\")\n",
    "print(\"Etiquetas generadas\")\n"
   ]
  },
  {
   "cell_type": "code",
   "execution_count": null,
   "metadata": {},
   "outputs": [],
   "source": []
  }
 ],
 "metadata": {
  "kernelspec": {
   "display_name": "Python 3",
   "language": "python",
   "name": "python3"
  },
  "language_info": {
   "codemirror_mode": {
    "name": "ipython",
    "version": 3
   },
   "file_extension": ".py",
   "mimetype": "text/x-python",
   "name": "python",
   "nbconvert_exporter": "python",
   "pygments_lexer": "ipython3",
   "version": "3.5.2"
  }
 },
 "nbformat": 4,
 "nbformat_minor": 2
}
